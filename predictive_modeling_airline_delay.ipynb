{
 "cells": [
  {
   "cell_type": "code",
   "execution_count": 1,
   "id": "40cdbdf0",
   "metadata": {},
   "outputs": [],
   "source": [
    "import numpy as np\n",
    "import pandas as pd\n",
    "from sklearn.model_selection import train_test_split\n",
    "from sklearn.metrics import accuracy_score\n",
    "from sklearn.pipeline import Pipeline\n",
    "from sklearn.impute import KNNImputer\n",
    "from sklearn.preprocessing import StandardScaler\n",
    "from sklearn.impute import SimpleImputer\n",
    "from sklearn.preprocessing import OneHotEncoder\n",
    "from sklearn.compose import ColumnTransformer\n",
    "from sklearn.tree import DecisionTreeClassifier\n",
    "from sklearn.ensemble import RandomForestClassifier\n",
    "from sklearn.neighbors import KNeighborsClassifier\n",
    "from sklearn.linear_model import LogisticRegression"
   ]
  },
  {
   "cell_type": "code",
   "execution_count": 2,
   "id": "fbeecd77",
   "metadata": {},
   "outputs": [],
   "source": [
    "df = pd.read_csv('airlines_delay.csv')"
   ]
  },
  {
   "cell_type": "code",
   "execution_count": 3,
   "id": "4bfd09bd",
   "metadata": {},
   "outputs": [
    {
     "data": {
      "text/html": [
       "<div>\n",
       "<style scoped>\n",
       "    .dataframe tbody tr th:only-of-type {\n",
       "        vertical-align: middle;\n",
       "    }\n",
       "\n",
       "    .dataframe tbody tr th {\n",
       "        vertical-align: top;\n",
       "    }\n",
       "\n",
       "    .dataframe thead th {\n",
       "        text-align: right;\n",
       "    }\n",
       "</style>\n",
       "<table border=\"1\" class=\"dataframe\">\n",
       "  <thead>\n",
       "    <tr style=\"text-align: right;\">\n",
       "      <th></th>\n",
       "      <th>Flight</th>\n",
       "      <th>Time</th>\n",
       "      <th>Length</th>\n",
       "      <th>Airline</th>\n",
       "      <th>AirportFrom</th>\n",
       "      <th>AirportTo</th>\n",
       "      <th>DayOfWeek</th>\n",
       "      <th>Class</th>\n",
       "    </tr>\n",
       "  </thead>\n",
       "  <tbody>\n",
       "    <tr>\n",
       "      <th>0</th>\n",
       "      <td>2313</td>\n",
       "      <td>1296</td>\n",
       "      <td>141</td>\n",
       "      <td>DL</td>\n",
       "      <td>ATL</td>\n",
       "      <td>HOU</td>\n",
       "      <td>1</td>\n",
       "      <td>0</td>\n",
       "    </tr>\n",
       "    <tr>\n",
       "      <th>1</th>\n",
       "      <td>6948</td>\n",
       "      <td>360</td>\n",
       "      <td>146</td>\n",
       "      <td>OO</td>\n",
       "      <td>COS</td>\n",
       "      <td>ORD</td>\n",
       "      <td>4</td>\n",
       "      <td>0</td>\n",
       "    </tr>\n",
       "    <tr>\n",
       "      <th>2</th>\n",
       "      <td>1247</td>\n",
       "      <td>1170</td>\n",
       "      <td>143</td>\n",
       "      <td>B6</td>\n",
       "      <td>BOS</td>\n",
       "      <td>CLT</td>\n",
       "      <td>3</td>\n",
       "      <td>0</td>\n",
       "    </tr>\n",
       "    <tr>\n",
       "      <th>3</th>\n",
       "      <td>31</td>\n",
       "      <td>1410</td>\n",
       "      <td>344</td>\n",
       "      <td>US</td>\n",
       "      <td>OGG</td>\n",
       "      <td>PHX</td>\n",
       "      <td>6</td>\n",
       "      <td>0</td>\n",
       "    </tr>\n",
       "    <tr>\n",
       "      <th>4</th>\n",
       "      <td>563</td>\n",
       "      <td>692</td>\n",
       "      <td>98</td>\n",
       "      <td>FL</td>\n",
       "      <td>BMI</td>\n",
       "      <td>ATL</td>\n",
       "      <td>4</td>\n",
       "      <td>0</td>\n",
       "    </tr>\n",
       "  </tbody>\n",
       "</table>\n",
       "</div>"
      ],
      "text/plain": [
       "   Flight  Time  Length Airline AirportFrom AirportTo  DayOfWeek  Class\n",
       "0    2313  1296     141      DL         ATL       HOU          1      0\n",
       "1    6948   360     146      OO         COS       ORD          4      0\n",
       "2    1247  1170     143      B6         BOS       CLT          3      0\n",
       "3      31  1410     344      US         OGG       PHX          6      0\n",
       "4     563   692      98      FL         BMI       ATL          4      0"
      ]
     },
     "execution_count": 3,
     "metadata": {},
     "output_type": "execute_result"
    }
   ],
   "source": [
    "df.head()"
   ]
  },
  {
   "cell_type": "code",
   "execution_count": null,
   "id": "ca8a13a7",
   "metadata": {},
   "outputs": [],
   "source": [
    "y = df.iloc[:,7]\n",
    "x = df.iloc[:,1:7]\n",
    "x_train, x_test, y_train, y_test = train_test_split(x, y, test_size = 0.3, random_state = 42)"
   ]
  },
  {
   "cell_type": "code",
   "execution_count": null,
   "id": "fe414d2b",
   "metadata": {},
   "outputs": [],
   "source": [
    "# Pre-process data: Numerical Xs\n",
    "\n",
    "step_1a = Pipeline(\n",
    "    [\n",
    "        (\"1A_i\", KNNImputer(n_neighbors = 6)),\n",
    "        (\"1A_ii\", StandardScaler())\n",
    "    ])"
   ]
  },
  {
   "cell_type": "code",
   "execution_count": null,
   "id": "bb14a507",
   "metadata": {},
   "outputs": [],
   "source": [
    "# Pre-process data: Categorical Xs\n",
    "\n",
    "step_1b = Pipeline(\n",
    "    [\n",
    "        (\"1B_i\", SimpleImputer(strategy = 'most_frequent')),\n",
    "        (\"1B_ii\", OneHotEncoder())\n",
    "    ])"
   ]
  },
  {
   "cell_type": "code",
   "execution_count": null,
   "id": "371e2fdd",
   "metadata": {},
   "outputs": [],
   "source": [
    "# Pre-process data: Column transforms\n",
    "\n",
    "num_x = ['Time', 'Length', 'DayOfWeek']\n",
    "\n",
    "cat_x = ['Airline', 'AirportFrom', 'AirportTo']\n",
    "\n",
    "step_1c = ColumnTransformer(\n",
    "    [\n",
    "        ('1C_i', step_1a, num_x),\n",
    "        ('1C_ii', step_1b, cat_x)\n",
    "    ])"
   ]
  },
  {
   "cell_type": "code",
   "execution_count": null,
   "id": "6179e361",
   "metadata": {},
   "outputs": [],
   "source": [
    "# Decision Tree\n",
    "\n",
    "max_depth = 4\n",
    "\n",
    "model_dt = Pipeline(\n",
    "    [\n",
    "        ('1C', step_1c),\n",
    "        ('2_RF', DecisionTreeClassifier(max_depth = max_depth, criterion = \"entropy\"))\n",
    "    ])\n",
    "\n",
    "model_dt.fit(x_train, y_train)"
   ]
  },
  {
   "cell_type": "code",
   "execution_count": null,
   "id": "ce9fa4c5",
   "metadata": {},
   "outputs": [],
   "source": [
    "# Random Forest Tree\n",
    "\n",
    "max_depth = 4\n",
    "\n",
    "model_rf = Pipeline(\n",
    "    [\n",
    "        ('1C', step_1c),\n",
    "        ('2_RF', RandomForestClassifier(max_depth = max_depth))\n",
    "    ])\n",
    "\n",
    "model_rf.fit(x_train, y_train)"
   ]
  },
  {
   "cell_type": "code",
   "execution_count": null,
   "id": "5cdf2e7c",
   "metadata": {},
   "outputs": [],
   "source": [
    "# K-Nearest Neighbors\n",
    "\n",
    "n_neighbors = 5\n",
    "\n",
    "model_knn = Pipeline(\n",
    "    [\n",
    "        ('1C', step_1c),\n",
    "        ('2_RF', KNeighborsClassifier(n_neighbors = n_neighbors))\n",
    "    ])\n",
    "\n",
    "model_knn.fit(x_train, y_train)"
   ]
  },
  {
   "cell_type": "code",
   "execution_count": null,
   "id": "4ea2a7f2",
   "metadata": {},
   "outputs": [],
   "source": [
    "# Logistic Regression\n",
    "\n",
    "n_neighbors = 5\n",
    "\n",
    "model_lr = Pipeline(\n",
    "    [\n",
    "        ('1C', step_1c),\n",
    "        ('2_RF', LogisticRegression())\n",
    "    ])\n",
    "\n",
    "model_lr.fit(x_train, y_train)"
   ]
  },
  {
   "cell_type": "code",
   "execution_count": null,
   "id": "30f7d8ce",
   "metadata": {},
   "outputs": [],
   "source": [
    "print(\"Accuracy score of the Decision Tree model is \" + str(model_dt.score(x_test, y_test)))\n",
    "print(\"Accuracy score of the Random Forest Tree model is \" + str(model_rf.score(x_test, y_test)))\n",
    "print(\"Accuracy score of the K-Nearest Neighbors model is \" + str(model_knn.score(x_test, y_test)))\n",
    "print(\"Accuracy score of the Logistic Regression model is \" + str(model_lr.score(x_test, y_test)))"
   ]
  },
  {
   "cell_type": "code",
   "execution_count": null,
   "id": "f85fbf6c",
   "metadata": {},
   "outputs": [],
   "source": []
  }
 ],
 "metadata": {
  "kernelspec": {
   "display_name": "Python 3 (ipykernel)",
   "language": "python",
   "name": "python3"
  },
  "language_info": {
   "codemirror_mode": {
    "name": "ipython",
    "version": 3
   },
   "file_extension": ".py",
   "mimetype": "text/x-python",
   "name": "python",
   "nbconvert_exporter": "python",
   "pygments_lexer": "ipython3",
   "version": "3.10.9"
  }
 },
 "nbformat": 4,
 "nbformat_minor": 5
}
